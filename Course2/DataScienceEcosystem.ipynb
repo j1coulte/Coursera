{
 "cells": [
  {
   "cell_type": "markdown",
   "id": "5748ae46-a252-4f55-98ae-c58391616dbe",
   "metadata": {
    "tags": []
   },
   "source": [
    "# Data Science Tools and Ecosystem"
   ]
  },
  {
   "cell_type": "markdown",
   "id": "d6506062-1b9b-495b-aed8-a88e86b5b721",
   "metadata": {},
   "source": [
    "## Author\n",
    "Justin Coulter"
   ]
  },
  {
   "cell_type": "markdown",
   "id": "2927ac0a-ce05-47ac-bcc7-7e663aa1e3cd",
   "metadata": {
    "tags": []
   },
   "source": [
    "## In this notebook, Data Science Tools and Ecosystem are summarized."
   ]
  },
  {
   "cell_type": "markdown",
   "id": "100bbb8e-85b6-4dca-8c71-81f79ddf65d4",
   "metadata": {},
   "source": [
    "## **Objectives:**\n",
    "* List some of the populate languages that Data Scientists use\n",
    "* List some of the common libraries that Data Scientists use\n",
    "* Execute arithmetic expressions via Python Code cells\n",
    "* Utilize various formats via Python Markdown cells"
   ]
  },
  {
   "cell_type": "markdown",
   "id": "69c8fac3-5b4d-4a92-8e0b-eac0c67cf304",
   "metadata": {
    "tags": []
   },
   "source": [
    "### Some of the popular languages that Data Scientists use are:\n",
    "1. R\n",
    "2. Python\n",
    "3. Scala"
   ]
  },
  {
   "cell_type": "markdown",
   "id": "e26a57aa-e1b9-4525-a98b-8b56c723f5d0",
   "metadata": {},
   "source": [
    "### Some of the Commonly used libraries used by Data Scientists include:\n",
    "1. NumPy\n",
    "2. TensorFlow\n",
    "3. Pandas"
   ]
  },
  {
   "cell_type": "markdown",
   "id": "4b403fc5-05c1-481d-9f36-67f6d0ca38d3",
   "metadata": {},
   "source": [
    "| Data Science Tools |\n",
    "|--------------------|\n",
    "| RStudio |\n",
    "| JupyterLab |\n",
    "| Git |"
   ]
  },
  {
   "cell_type": "markdown",
   "id": "4282729b-ae6a-48db-96d9-f99a81a80e3d",
   "metadata": {},
   "source": [
    "### Below are a few examples of evaluating arithmetic expressions in Python"
   ]
  },
  {
   "cell_type": "code",
   "execution_count": 1,
   "id": "3f24f241-474b-418a-b80b-e9653dc5fb64",
   "metadata": {},
   "outputs": [
    {
     "data": {
      "text/plain": [
       "17"
      ]
     },
     "execution_count": 1,
     "metadata": {},
     "output_type": "execute_result"
    }
   ],
   "source": [
    "# This is a simple arithmetic expression to multiple then add integers\n",
    "(3 * 4) + 5"
   ]
  },
  {
   "cell_type": "code",
   "execution_count": 5,
   "id": "891e293e-2efa-4c8b-9226-d94d20f4b72a",
   "metadata": {},
   "outputs": [
    {
     "name": "stdout",
     "output_type": "stream",
     "text": [
      "200 minutes =  3.3333333333333335 hours\n"
     ]
    }
   ],
   "source": [
    "# This will convert 200 minutes to hours by dividing by 60\n",
    "print(\"200 minutes = \", 200/60, \"hours\")"
   ]
  }
 ],
 "metadata": {
  "kernelspec": {
   "display_name": "Python 3 (ipykernel)",
   "language": "python",
   "name": "python3"
  },
  "language_info": {
   "codemirror_mode": {
    "name": "ipython",
    "version": 3
   },
   "file_extension": ".py",
   "mimetype": "text/x-python",
   "name": "python",
   "nbconvert_exporter": "python",
   "pygments_lexer": "ipython3",
   "version": "3.10.9"
  }
 },
 "nbformat": 4,
 "nbformat_minor": 5
}
